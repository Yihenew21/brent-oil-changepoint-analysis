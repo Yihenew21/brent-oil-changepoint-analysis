{
  "cells": [
    {
      "cell_type": "markdown",
      "id": "97e74158",
      "metadata": {},
      "source": [
        "# Cell 1: Introduction to Data Preprocessing\n",
        "\n",
        "**Purpose**: This notebook preprocesses the Brent oil price data for the 10 Academy Week 10 Challenge, ensuring it is clean and ready for exploratory data analysis (EDA) and modeling.\n",
        "\n",
        "**Objectives**:\n",
        "- Load raw data using the data_loader module.\n",
        "- Check for missing values and outliers.\n",
        "- Compute log returns for volatility analysis.\n",
        "- Save preprocessed data for downstream tasks.\n",
        "\n",
        "**Input**: `data/raw/brent_oil_prices.csv`\n",
        "**Output**: Preprocessed data saved to `data/processed/cleaned_oil_data.csv`"
      ]
    },
    {
      "cell_type": "markdown",
      "id": "ac5082f5",
      "metadata": {},
      "source": [
        "# Cell 2: Import Required Libraries\n",
        " **Description**: Import Python libraries for data handling and preprocessing."
      ]
    },
    {
      "cell_type": "code",
      "execution_count": 1,
      "id": "130e2a65",
      "metadata": {},
      "outputs": [],
      "source": [
        "import pandas as pd\n",
        "import numpy as np\n",
        "\n",
        "# Add the project root directory\n",
        "import sys\n",
        "import os\n",
        "sys.path.append(os.path.join(os.getcwd(), '..'))\n",
        "from src.data.data_loader import load_brent_oil_data\n",
        "\n",
        "# Ensure reproducibility\n",
        "np.random.seed(42)"
      ]
    },
    {
      "cell_type": "markdown",
      "id": "cfb42fd4",
      "metadata": {},
      "source": [
        "# Cell 3: Load Raw Data\n",
        " **Description**: Load Brent oil price data using the data_loader module.\n",
        "\n",
        " **Input**: Raw CSV file at 'data/raw/BrentOilPrices.csv'\n",
        " \n",
        " **Output**: Cleaned DataFrame with 'Date' and 'Price' columns"
      ]
    },
    {
      "cell_type": "code",
      "execution_count": 3,
      "id": "36ac1b8f",
      "metadata": {},
      "outputs": [
        {
          "name": "stderr",
          "output_type": "stream",
          "text": [
            "c:\\Users\\hp\\Desktop\\projects\\10 Acadamy -KAIM5\\brent-oil-changepoint-analysis\\notebooks\\..\\src\\data\\data_loader.py:40: UserWarning: Could not infer format, so each element will be parsed individually, falling back to `dateutil`. To ensure parsing is consistent and as-expected, please specify a format.\n",
            "  return pd.to_datetime(date_series)\n"
          ]
        },
        {
          "name": "stdout",
          "output_type": "stream",
          "text": [
            "First 5 rows of loaded data:\n",
            "        Date  Price\n",
            "0 1987-05-20  18.63\n",
            "1 1987-05-21  18.45\n",
            "2 1987-05-22  18.55\n",
            "3 1987-05-25  18.60\n",
            "4 1987-05-26  18.63\n",
            "\n",
            "Last 5 rows of loaded data:\n",
            "           Date  Price\n",
            "9006 2022-11-08  96.85\n",
            "9007 2022-11-09  93.05\n",
            "9008 2022-11-10  94.25\n",
            "9009 2022-11-11  96.37\n",
            "9010 2022-11-14  93.59\n",
            "\n",
            "Summary statistics:\n",
            "                                Date        Price\n",
            "count                           9011  9011.000000\n",
            "mean   2005-02-10 23:46:53.760958720    48.420782\n",
            "min              1987-05-20 00:00:00     9.100000\n",
            "25%              1996-03-20 12:00:00    19.050000\n",
            "50%              2005-02-02 00:00:00    38.570000\n",
            "75%              2014-01-09 12:00:00    70.090000\n",
            "max              2022-11-14 00:00:00   143.950000\n",
            "std                              NaN    32.860110\n",
            "\n",
            "Missing values:\n",
            "Date     0\n",
            "Price    0\n",
            "dtype: int64\n"
          ]
        }
      ],
      "source": [
        "\n",
        "# Define file paths\n",
        "RAW_PATH = '../data/raw/BrentOilPrices.csv'\n",
        "PROCESSED_PATH = '../data/processed/cleaned_oil_data.csv'\n",
        "\n",
        "# Load data\n",
        "df = load_brent_oil_data(RAW_PATH, PROCESSED_PATH)\n",
        "\n",
        "# Display first few rows\n",
        "print(\"First 5 rows of loaded data:\")\n",
        "print(df.head())\n",
        "print(\"\\nLast 5 rows of loaded data:\")\n",
        "print(df.tail())\n",
        "\n",
        "# Display summary statistics\n",
        "print(\"\\nSummary statistics:\")\n",
        "print(df.describe())\n",
        "\n",
        "# Display missing values\n",
        "print(\"\\nMissing values:\")\n",
        "print(df.isnull().sum())"
      ]
    },
    {
      "cell_type": "markdown",
      "id": "f0a560fa",
      "metadata": {},
      "source": [
        "# Cell 4: Check for Missing Values and Outliers\n",
        " **Description**: Inspect data for missing values and identify potential outliers in prices.\n",
        "\n",
        " **Input**: Loaded DataFrame\n",
        " \n",
        " **Output**: Summary of missing values and outlier analysis"
      ]
    },
    {
      "cell_type": "code",
      "execution_count": 5,
      "id": "75927c19",
      "metadata": {},
      "outputs": [
        {
          "name": "stdout",
          "output_type": "stream",
          "text": [
            "Missing Values:\n",
            "Date     0\n",
            "Price    0\n",
            "dtype: int64\n",
            "\n",
            "Outliers (Z-score > 3):\n",
            "No outliers detected.\n"
          ]
        }
      ],
      "source": [
        "\n",
        "# Check for missing values\n",
        "print(\"Missing Values:\")\n",
        "print(df.isna().sum())\n",
        "\n",
        "# Calculate Z-scores for prices to detect outliers\n",
        "df['Price_Zscore'] = (df['Price'] - df['Price'].mean()) / df['Price'].std()\n",
        "outliers = df[np.abs(df['Price_Zscore']) > 3]\n",
        "\n",
        "# Display outliers, if any\n",
        "print(\"\\nOutliers (Z-score > 3):\")\n",
        "print(outliers[['Date', 'Price', 'Price_Zscore']] if not outliers.empty else \"No outliers detected.\")\n",
        "\n",
        "# Drop temporary Z-score column\n",
        "df = df.drop(columns=['Price_Zscore'])"
      ]
    },
    {
      "cell_type": "markdown",
      "id": "78723a8f",
      "metadata": {},
      "source": [
        "# Cell 5: Compute Log Returns\n",
        " **Description**: Calculate log returns to analyze volatility for modeling.\n",
        "\n",
        " **Input**: DataFrame with 'Price' column\n",
        "\n",
        " **Output**: DataFrame with added 'Log_Price' and 'Log_Returns' columns"
      ]
    },
    {
      "cell_type": "code",
      "execution_count": 8,
      "id": "f11bc47e",
      "metadata": {},
      "outputs": [
        {
          "name": "stdout",
          "output_type": "stream",
          "text": [
            "First 5 rows with log returns:\n",
            "        Date  Price  Log_Price  Log_Returns\n",
            "0 1987-05-20  18.63   2.924773          NaN\n",
            "1 1987-05-21  18.45   2.915064    -0.009709\n",
            "2 1987-05-22  18.55   2.920470     0.005405\n",
            "3 1987-05-25  18.60   2.923162     0.002692\n",
            "4 1987-05-26  18.63   2.924773     0.001612\n"
          ]
        }
      ],
      "source": [
        "\n",
        "# Compute log prices\n",
        "df['Log_Price'] = np.log(df['Price'])\n",
        "\n",
        "# Compute log returns as difference of log prices\n",
        "df['Log_Returns'] = df['Log_Price'].diff()\n",
        "\n",
        "# Display first few rows with new columns\n",
        "print(\"First 5 rows with log returns:\")\n",
        "print(df.head())"
      ]
    },
    {
      "cell_type": "markdown",
      "id": "66c429be",
      "metadata": {},
      "source": [
        "# Cell 6: Save Preprocessed Data\n",
        " **Description**: Save the preprocessed DataFrame for use in EDA and modeling.\n",
        "\n",
        " **Input**: DataFrame with preprocessed columns\n",
        " \n",
        " **Output**: CSV file at 'data/processed/cleaned_oil_data.csv'"
      ]
    },
    {
      "cell_type": "code",
      "execution_count": 9,
      "id": "02596959",
      "metadata": {},
      "outputs": [
        {
          "name": "stdout",
          "output_type": "stream",
          "text": [
            "Preprocessed data saved to: ../data/processed/cleaned_oil_data.csv\n"
          ]
        }
      ],
      "source": [
        "\n",
        "# Save preprocessed data (overwrites file from data_loader)\n",
        "df.to_csv(PROCESSED_PATH, index=False)\n",
        "\n",
        "# Confirm save\n",
        "print(f\"Preprocessed data saved to: {PROCESSED_PATH}\")"
      ]
    }
  ],
  "metadata": {
    "kernelspec": {
      "display_name": ".venv",
      "language": "python",
      "name": "python3"
    },
    "language_info": {
      "codemirror_mode": {
        "name": "ipython",
        "version": 3
      },
      "file_extension": ".py",
      "mimetype": "text/x-python",
      "name": "python",
      "nbconvert_exporter": "python",
      "pygments_lexer": "ipython3",
      "version": "3.11.9"
    }
  },
  "nbformat": 4,
  "nbformat_minor": 5
}
