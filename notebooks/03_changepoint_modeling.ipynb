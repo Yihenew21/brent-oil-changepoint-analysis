{
  "cells": [
    {
      "cell_type": "markdown",
      "metadata": {},
      "source": [
        "# Cell 1: Introduction to Change Point Modeling\n",
        "\n",
        "**Purpose**: This notebook implements a Bayesian change point model using PyMC3 to detect structural breaks in Brent oil prices and associate them with major events for the 10 Academy Week 10 Challenge (Task 2).\n",
        "\n",
        "**Objectives**:\n",
        "- Load and prepare Brent oil price data.\n",
        "- Build and run a Bayesian change point model.\n",
        "- Interpret results to identify change points and quantify impacts.\n",
        "- Associate change points with events from `major_events.csv`.\n",
        "\n",
        "**Input**: `data/processed/cleaned_oil_data.csv`, `data/events/major_events.csv`\n",
        "**Output**: Plots in `results/figures/`, model results in `results/models/`, and interpretation dictionary."
      ]
    },
    {
      "cell_type": "code",
      "execution_count": null,
      "metadata": {},
      "outputs": [],
      "source": [
        "# Cell 2: Import Required Libraries\n",
        "# Description: Import Python libraries for modeling, data handling, and visualization.\n",
        "\n",
        "import pandas as pd\n",
        "import numpy as np\n",
        "import pymc3 as pm\n",
        "import matplotlib.pyplot as plt\n",
        "from src.models.changepoint_model import build_changepoint_model, run_mcmc, plot_changepoint_results, interpret_changepoint\n",
        "\n",
        "# Ensure plots are displayed inline\n",
        "%matplotlib inline"
      ]
    },
    {
      "cell_type": "code",
      "execution_count": null,
      "metadata": {},
      "outputs": [],
      "source": [
        "# Cell 3: Load Data\n",
        "# Description: Load cleaned Brent oil price data and major events dataset.\n",
        "# Input: Cleaned oil data and events CSV files\n",
        "# Output: DataFrames for prices and events\n",
        "\n",
        "# Define file paths\n",
        "PRICE_PATH = '../data/processed/cleaned_oil_data.csv'\n",
        "EVENTS_PATH = '../data/events/major_events.csv'\n",
        "\n",
        "# Load price data\n",
        "price_df = pd.read_csv(PRICE_PATH, parse_dates=['Date'])\n",
        "\n",
        "# Load events data\n",
        "events_df = pd.read_csv(EVENTS_PATH)\n",
        "\n",
        "# Display first few rows to verify\n",
        "print(\"Price Data Head:\")\n",
        "print(price_df.head())\n",
        "print(\"\\nEvents Data Head:\")\n",
        "print(events_df.head())"
      ]
    },
    {
      "cell_type": "code",
      "execution_count": null,
      "metadata": {},
      "outputs": [],
      "source": [
        "# Cell 4: Prepare Data for Modeling\n",
        "# Description: Extract price array and dates for change point modeling.\n",
        "# Input: Price DataFrame\n",
        "# Output: Numpy array of prices and Series of dates\n",
        "\n",
        "# Extract price data as numpy array\n",
        "prices = price_df['Price'].values\n",
        "\n",
        "# Extract dates\n",
        "dates = price_df['Date']\n",
        "\n",
        "# Get number of days\n",
        "n_days = len(prices)\n",
        "\n",
        "# Print data summary\n",
        "print(f\"Number of days: {n_days}\")\n",
        "print(f\"Price range: {prices.min():.2f} to {prices.max():.2f} USD/barrel\")"
      ]
    },
    {
      "cell_type": "code",
      "execution_count": null,
      "metadata": {},
      "outputs": [],
      "source": [
        "# Cell 5: Build and Run Change Point Model\n",
        "# Description: Build the Bayesian model and run MCMC sampling.\n",
        "# Input: Price array and number of days\n",
        "# Output: PyMC3 model and MCMC trace\n",
        "\n",
        "# Build model\n",
        "model = build_changepoint_model(prices, n_days)\n",
        "\n",
        "# Run MCMC sampling\n",
        "trace = run_mcmc(model, draws=1000, tune=1000)\n",
        "\n",
        "# Check convergence\n",
        "print(\"MCMC Summary:\")\n",
        "print(pm.summary(trace))"
      ]
    },
    {
      "cell_type": "code",
      "execution_count": null,
      "metadata": {},
      "outputs": [],
      "source": [
        "# Cell 6: Visualize Model Results\n",
        "# Description: Plot data with estimated change point and posterior distribution of tau.\n",
        "# Input: MCMC trace, price data, and dates\n",
        "# Output: Plot saved to 'results/figures/changepoint_results.png'\n",
        "\n",
        "# Define output path\n",
        "OUTPUT_PATH = 'results/figures/changepoint_results.png'\n",
        "\n",
        "# Plot results\n",
        "plot_changepoint_results(trace, prices, dates, OUTPUT_PATH)\n",
        "\n",
        "# Display plot (already saved)\n",
        "plt.show()"
      ]
    },
    {
      "cell_type": "code",
      "execution_count": null,
      "metadata": {},
      "outputs": [],
      "source": [
        "# Cell 7: Interpret Change Point Results\n",
        "# Description: Associate change point with events and quantify price impact.\n",
        "# Input: MCMC trace, dates, and events DataFrame\n",
        "# Output: Dictionary with interpretation results\n",
        "\n",
        "# Interpret results\n",
        "results = interpret_changepoint(trace, dates, events_df)\n",
        "\n",
        "# Print interpretation\n",
        "print(\"Change Point Interpretation:\")\n",
        "for key, value in results.items():\n",
        "    print(f\"{key}: {value}\")"
      ]
    }
  ],
  "metadata": {
    "kernelspec": {
      "display_name": "Python 3",
      "language": "python",
      "name": "python3"
    },
    "language_info": {
      "codemirror_mode": {
        "name": "ipython",
        "version": 3
      },
      "file_extension": ".py",
      "mimetype": "text/x-python",
      "name": "python",
      "nbconvert_exporter": "python",
      "pygments_lexer": "ipython3",
      "version": "3.9.12"
    }
  },
  "nbformat": 4,
  "nbformat_minor": 5
}
